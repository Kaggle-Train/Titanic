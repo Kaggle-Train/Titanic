{
 "cells": [
  {
   "cell_type": "markdown",
   "source": [
    "# Data Exploration.\n",
    "\n",
    "First let's load our train data set..."
   ],
   "metadata": {
    "collapsed": false
   }
  },
  {
   "cell_type": "code",
   "execution_count": 1,
   "outputs": [
    {
     "name": "stdout",
     "output_type": "stream",
     "text": [
      "Loading dataset train.csv from 01_raw\n",
      "Dimension of dataset \"train\":  (891, 11)\n"
     ]
    }
   ],
   "source": [
    "import src.d01_data as d01\n",
    "\n",
    "df = d01.load_data('01_raw', 'train')"
   ],
   "metadata": {
    "collapsed": false,
    "pycharm": {
     "name": "#%%\n"
    }
   }
  }
 ],
 "metadata": {
  "kernelspec": {
   "display_name": "Python 3",
   "language": "python",
   "name": "python3"
  },
  "language_info": {
   "codemirror_mode": {
    "name": "ipython",
    "version": 3
   },
   "file_extension": ".py",
   "mimetype": "text/x-python",
   "name": "python",
   "nbconvert_exporter": "python",
   "pygments_lexer": "ipython3",
   "version": "3.7.7"
  }
 },
 "nbformat": 4,
 "nbformat_minor": 4
}